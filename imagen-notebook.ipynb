{
  "nbformat": 4,
  "nbformat_minor": 0,
  "metadata": {
    "colab": {
      "name": "Untitled",
      "provenance": [],
      "authorship_tag": "ABX9TyNL0usIO65kyZvZBVkzJV08",
      "include_colab_link": true
    },
    "kernelspec": {
      "name": "python3",
      "display_name": "Python 3"
    },
    "language_info": {
      "name": "python"
    }
  },
  "cells": [
    {
      "cell_type": "markdown",
      "metadata": {
        "id": "view-in-github",
        "colab_type": "text"
      },
      "source": [
        "<a href=\"https://colab.research.google.com/github/pg0/imagen-pytorch/blob/main/imagen-notebook.ipynb\" target=\"_parent\"><img src=\"https://colab.research.google.com/assets/colab-badge.svg\" alt=\"Open In Colab\"/></a>"
      ]
    },
    {
      "cell_type": "code",
      "execution_count": 5,
      "metadata": {
        "id": "5uZsVG6Rrjgk",
        "colab": {
          "base_uri": "https://localhost:8080/"
        },
        "outputId": "83b23c4d-5bcd-4dd3-a7d0-6e54f42d21a2"
      },
      "outputs": [
        {
          "output_type": "stream",
          "name": "stdout",
          "text": [
            "Requirement already satisfied: imagen-pytorch in d:\\anaconda3\\lib\\site-packages (0.16.3)\n",
            "Note: you may need to restart the kernel to use updated packages.Requirement already satisfied: click in d:\\anaconda3\\lib\\site-packages (from imagen-pytorch) (8.0.4)\n",
            "Requirement already satisfied: resize-right in d:\\anaconda3\\lib\\site-packages (from imagen-pytorch) (0.0.2)\n",
            "Requirement already satisfied: pydantic in d:\\anaconda3\\lib\\site-packages (from imagen-pytorch) (1.9.1)\n",
            "\n",
            "Requirement already satisfied: packaging in d:\\anaconda3\\lib\\site-packages (from imagen-pytorch) (21.3)\n",
            "Requirement already satisfied: tqdm in d:\\anaconda3\\lib\\site-packages (from imagen-pytorch) (4.64.0)\n",
            "Requirement already satisfied: pytorch-lightning in d:\\anaconda3\\lib\\site-packages (from imagen-pytorch) (1.6.4)\n",
            "Requirement already satisfied: torch>=1.6 in d:\\anaconda3\\lib\\site-packages (from imagen-pytorch) (1.12.0)\n",
            "Requirement already satisfied: pillow in d:\\anaconda3\\lib\\site-packages (from imagen-pytorch) (9.0.1)\n",
            "Requirement already satisfied: einops>=0.4 in d:\\anaconda3\\lib\\site-packages (from imagen-pytorch) (0.4.1)\n",
            "Requirement already satisfied: transformers in d:\\anaconda3\\lib\\site-packages (from imagen-pytorch) (4.20.1)\n",
            "Requirement already satisfied: torchvision in d:\\anaconda3\\lib\\site-packages (from imagen-pytorch) (0.13.0)\n",
            "Requirement already satisfied: ema-pytorch>=0.0.3 in d:\\anaconda3\\lib\\site-packages (from imagen-pytorch) (0.0.8)\n",
            "Requirement already satisfied: sentencepiece in d:\\anaconda3\\lib\\site-packages (from imagen-pytorch) (0.1.96)\n",
            "Requirement already satisfied: pytorch-warmup in d:\\anaconda3\\lib\\site-packages (from imagen-pytorch) (0.1.0)\n",
            "Requirement already satisfied: einops-exts in d:\\anaconda3\\lib\\site-packages (from imagen-pytorch) (0.0.3)\n",
            "Requirement already satisfied: numpy in d:\\anaconda3\\lib\\site-packages (from imagen-pytorch) (1.21.5)\n",
            "Requirement already satisfied: typing-extensions in d:\\anaconda3\\lib\\site-packages (from torch>=1.6->imagen-pytorch) (4.1.1)\n",
            "Requirement already satisfied: colorama in d:\\anaconda3\\lib\\site-packages (from click->imagen-pytorch) (0.4.4)\n",
            "Requirement already satisfied: pyparsing!=3.0.5,>=2.0.2 in d:\\anaconda3\\lib\\site-packages (from packaging->imagen-pytorch) (3.0.4)\n",
            "Requirement already satisfied: protobuf<=3.20.1 in d:\\anaconda3\\lib\\site-packages (from pytorch-lightning->imagen-pytorch) (3.19.4)\n",
            "Requirement already satisfied: torchmetrics>=0.4.1 in d:\\anaconda3\\lib\\site-packages (from pytorch-lightning->imagen-pytorch) (0.9.2)\n",
            "Requirement already satisfied: PyYAML>=5.4 in d:\\anaconda3\\lib\\site-packages (from pytorch-lightning->imagen-pytorch) (6.0)\n",
            "Requirement already satisfied: pyDeprecate>=0.3.1 in d:\\anaconda3\\lib\\site-packages (from pytorch-lightning->imagen-pytorch) (0.3.2)\n",
            "Requirement already satisfied: fsspec[http]!=2021.06.0,>=2021.05.0 in d:\\anaconda3\\lib\\site-packages (from pytorch-lightning->imagen-pytorch) (2022.2.0)\n",
            "Requirement already satisfied: tensorboard>=2.2.0 in d:\\anaconda3\\lib\\site-packages (from pytorch-lightning->imagen-pytorch) (2.9.1)\n",
            "Requirement already satisfied: aiohttp in d:\\anaconda3\\lib\\site-packages (from fsspec[http]!=2021.06.0,>=2021.05.0->pytorch-lightning->imagen-pytorch) (3.8.1)\n",
            "Requirement already satisfied: requests in d:\\anaconda3\\lib\\site-packages (from fsspec[http]!=2021.06.0,>=2021.05.0->pytorch-lightning->imagen-pytorch) (2.27.1)\n",
            "Requirement already satisfied: wheel>=0.26 in d:\\anaconda3\\lib\\site-packages (from tensorboard>=2.2.0->pytorch-lightning->imagen-pytorch) (0.37.1)\n",
            "Requirement already satisfied: markdown>=2.6.8 in d:\\anaconda3\\lib\\site-packages (from tensorboard>=2.2.0->pytorch-lightning->imagen-pytorch) (3.3.7)\n",
            "Requirement already satisfied: setuptools>=41.0.0 in d:\\anaconda3\\lib\\site-packages (from tensorboard>=2.2.0->pytorch-lightning->imagen-pytorch) (61.2.0)\n",
            "Requirement already satisfied: absl-py>=0.4 in d:\\anaconda3\\lib\\site-packages (from tensorboard>=2.2.0->pytorch-lightning->imagen-pytorch) (1.1.0)\n",
            "Requirement already satisfied: tensorboard-plugin-wit>=1.6.0 in d:\\anaconda3\\lib\\site-packages (from tensorboard>=2.2.0->pytorch-lightning->imagen-pytorch) (1.8.1)\n",
            "Requirement already satisfied: werkzeug>=1.0.1 in d:\\anaconda3\\lib\\site-packages (from tensorboard>=2.2.0->pytorch-lightning->imagen-pytorch) (2.0.3)\n",
            "Requirement already satisfied: google-auth-oauthlib<0.5,>=0.4.1 in d:\\anaconda3\\lib\\site-packages (from tensorboard>=2.2.0->pytorch-lightning->imagen-pytorch) (0.4.6)\n",
            "Requirement already satisfied: tensorboard-data-server<0.7.0,>=0.6.0 in d:\\anaconda3\\lib\\site-packages (from tensorboard>=2.2.0->pytorch-lightning->imagen-pytorch) (0.6.1)\n",
            "Requirement already satisfied: google-auth<3,>=1.6.3 in d:\\anaconda3\\lib\\site-packages (from tensorboard>=2.2.0->pytorch-lightning->imagen-pytorch) (2.9.0)\n",
            "Requirement already satisfied: grpcio>=1.24.3 in d:\\anaconda3\\lib\\site-packages (from tensorboard>=2.2.0->pytorch-lightning->imagen-pytorch) (1.47.0)\n",
            "Requirement already satisfied: pyasn1-modules>=0.2.1 in d:\\anaconda3\\lib\\site-packages (from google-auth<3,>=1.6.3->tensorboard>=2.2.0->pytorch-lightning->imagen-pytorch) (0.2.8)\n",
            "Requirement already satisfied: cachetools<6.0,>=2.0.0 in d:\\anaconda3\\lib\\site-packages (from google-auth<3,>=1.6.3->tensorboard>=2.2.0->pytorch-lightning->imagen-pytorch) (5.2.0)\n",
            "Requirement already satisfied: six>=1.9.0 in d:\\anaconda3\\lib\\site-packages (from google-auth<3,>=1.6.3->tensorboard>=2.2.0->pytorch-lightning->imagen-pytorch) (1.16.0)\n",
            "Requirement already satisfied: rsa<5,>=3.1.4 in d:\\anaconda3\\lib\\site-packages (from google-auth<3,>=1.6.3->tensorboard>=2.2.0->pytorch-lightning->imagen-pytorch) (4.8)\n",
            "Requirement already satisfied: requests-oauthlib>=0.7.0 in d:\\anaconda3\\lib\\site-packages (from google-auth-oauthlib<0.5,>=0.4.1->tensorboard>=2.2.0->pytorch-lightning->imagen-pytorch) (1.3.1)\n",
            "Requirement already satisfied: importlib-metadata>=4.4 in d:\\anaconda3\\lib\\site-packages (from markdown>=2.6.8->tensorboard>=2.2.0->pytorch-lightning->imagen-pytorch) (4.11.3)\n",
            "Requirement already satisfied: zipp>=0.5 in d:\\anaconda3\\lib\\site-packages (from importlib-metadata>=4.4->markdown>=2.6.8->tensorboard>=2.2.0->pytorch-lightning->imagen-pytorch) (3.7.0)\n",
            "Requirement already satisfied: pyasn1<0.5.0,>=0.4.6 in d:\\anaconda3\\lib\\site-packages (from pyasn1-modules>=0.2.1->google-auth<3,>=1.6.3->tensorboard>=2.2.0->pytorch-lightning->imagen-pytorch) (0.4.8)\n",
            "Requirement already satisfied: charset-normalizer~=2.0.0 in d:\\anaconda3\\lib\\site-packages (from requests->fsspec[http]!=2021.06.0,>=2021.05.0->pytorch-lightning->imagen-pytorch) (2.0.4)\n",
            "Requirement already satisfied: certifi>=2017.4.17 in d:\\anaconda3\\lib\\site-packages (from requests->fsspec[http]!=2021.06.0,>=2021.05.0->pytorch-lightning->imagen-pytorch) (2021.10.8)\n",
            "Requirement already satisfied: idna<4,>=2.5 in d:\\anaconda3\\lib\\site-packages (from requests->fsspec[http]!=2021.06.0,>=2021.05.0->pytorch-lightning->imagen-pytorch) (3.3)\n",
            "Requirement already satisfied: urllib3<1.27,>=1.21.1 in d:\\anaconda3\\lib\\site-packages (from requests->fsspec[http]!=2021.06.0,>=2021.05.0->pytorch-lightning->imagen-pytorch) (1.26.9)\n",
            "Requirement already satisfied: oauthlib>=3.0.0 in d:\\anaconda3\\lib\\site-packages (from requests-oauthlib>=0.7.0->google-auth-oauthlib<0.5,>=0.4.1->tensorboard>=2.2.0->pytorch-lightning->imagen-pytorch) (3.2.0)\n",
            "Requirement already satisfied: async-timeout<5.0,>=4.0.0a3 in d:\\anaconda3\\lib\\site-packages (from aiohttp->fsspec[http]!=2021.06.0,>=2021.05.0->pytorch-lightning->imagen-pytorch) (4.0.2)\n",
            "Requirement already satisfied: yarl<2.0,>=1.0 in d:\\anaconda3\\lib\\site-packages (from aiohttp->fsspec[http]!=2021.06.0,>=2021.05.0->pytorch-lightning->imagen-pytorch) (1.7.2)\n",
            "Requirement already satisfied: frozenlist>=1.1.1 in d:\\anaconda3\\lib\\site-packages (from aiohttp->fsspec[http]!=2021.06.0,>=2021.05.0->pytorch-lightning->imagen-pytorch) (1.3.0)\n",
            "Requirement already satisfied: attrs>=17.3.0 in d:\\anaconda3\\lib\\site-packages (from aiohttp->fsspec[http]!=2021.06.0,>=2021.05.0->pytorch-lightning->imagen-pytorch) (21.4.0)\n",
            "Requirement already satisfied: multidict<7.0,>=4.5 in d:\\anaconda3\\lib\\site-packages (from aiohttp->fsspec[http]!=2021.06.0,>=2021.05.0->pytorch-lightning->imagen-pytorch) (6.0.2)\n",
            "Requirement already satisfied: aiosignal>=1.1.2 in d:\\anaconda3\\lib\\site-packages (from aiohttp->fsspec[http]!=2021.06.0,>=2021.05.0->pytorch-lightning->imagen-pytorch) (1.2.0)\n",
            "Requirement already satisfied: tokenizers!=0.11.3,<0.13,>=0.11.1 in d:\\anaconda3\\lib\\site-packages (from transformers->imagen-pytorch) (0.12.1)\n",
            "Requirement already satisfied: filelock in d:\\anaconda3\\lib\\site-packages (from transformers->imagen-pytorch) (3.6.0)\n",
            "Requirement already satisfied: huggingface-hub<1.0,>=0.1.0 in d:\\anaconda3\\lib\\site-packages (from transformers->imagen-pytorch) (0.8.1)\n",
            "Requirement already satisfied: regex!=2019.12.17 in d:\\anaconda3\\lib\\site-packages (from transformers->imagen-pytorch) (2022.3.15)\n"
          ]
        }
      ],
      "source": [
        "pip install imagen-pytorch"
      ]
    },
    {
      "cell_type": "code",
      "source": [
        "import torch\n",
        "from imagen_pytorch import Unet, Imagen\n",
        "\n",
        "# unet for imagen\n",
        "\n",
        "unet1 = Unet(\n",
        "    dim = 32,\n",
        "    cond_dim = 512,\n",
        "    dim_mults = (1, 2, 4, 8),\n",
        "    num_resnet_blocks = 3,\n",
        "    layer_attns = (False, True, True, True),\n",
        "    layer_cross_attns = (False, True, True, True)\n",
        ")\n",
        "\n",
        "unet2 = Unet(\n",
        "    dim = 32,\n",
        "    cond_dim = 512,\n",
        "    dim_mults = (1, 2, 4, 8),\n",
        "    num_resnet_blocks = (2, 4, 8, 8),\n",
        "    layer_attns = (False, False, False, True),\n",
        "    layer_cross_attns = (False, False, False, True)\n",
        ")\n",
        "\n",
        "# imagen, which contains the unets above (base unet and super resoluting ones)\n",
        "\n",
        "imagen = Imagen(\n",
        "    unets = (unet1, unet2),\n",
        "    image_sizes = (64, 256),\n",
        "    timesteps = 1000,\n",
        "    cond_drop_prob = 0.1\n",
        ").cuda()\n",
        "\n",
        "# mock images (get a lot of this) and text encodings from large T5\n",
        "\n",
        "text_embeds = torch.randn(4, 256, 768).cuda()\n",
        "text_masks = torch.ones(4, 256).bool().cuda()\n",
        "images = torch.randn(4, 3, 256, 256).cuda()\n",
        "\n",
        "# feed images into imagen, training each unet in the cascade\n",
        "\n",
        "for i in (1, 2):\n",
        "    loss = imagen(images, text_embeds = text_embeds, text_masks = text_masks, unet_number = i)\n",
        "    loss.backward()"
      ],
      "metadata": {
        "id": "isbcpkI3htV1"
      },
      "execution_count": null,
      "outputs": []
    }
  ]
}